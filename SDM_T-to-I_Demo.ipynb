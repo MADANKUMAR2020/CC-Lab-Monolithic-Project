{
  "nbformat": 4,
  "nbformat_minor": 0,
  "metadata": {
    "colab": {
      "provenance": [],
      "authorship_tag": "ABX9TyMQYDFKGTtVDJwm+FRZdkIv",
      "include_colab_link": true
    },
    "kernelspec": {
      "name": "python3",
      "display_name": "Python 3"
    },
    "language_info": {
      "name": "python"
    }
  },
  "cells": [
    {
      "cell_type": "markdown",
      "metadata": {
        "id": "view-in-github",
        "colab_type": "text"
      },
      "source": [
        "<a href=\"https://colab.research.google.com/github/MADANKUMAR2020/CC-Lab-Monolithic-Project/blob/main/SDM_T-to-I_Demo.ipynb\" target=\"_parent\"><img src=\"https://colab.research.google.com/assets/colab-badge.svg\" alt=\"Open In Colab\"/></a>"
      ]
    },
    {
      "cell_type": "code",
      "execution_count": null,
      "metadata": {
        "id": "GWu6YMD_WCZK"
      },
      "outputs": [],
      "source": [
        "import torch\n",
        "from diffusers import StableDiffusionPipeline\n",
        "import matplotlib.pyplot as plt\n",
        "\n",
        "# Check if GPU is available\n",
        "device = \"cuda\" if torch.cuda.is_available() else \"cpu\"\n",
        "\n",
        "# Load Pre-trained Stable Diffusion Model\n",
        "pipeline = StableDiffusionPipeline.from_pretrained(\"runwayml/stable-diffusion-v1-5\").to(device)\n",
        "\n",
        "# Define the text prompt for image generation\n",
        "text_prompt = \"A book with dyslexia-friendly fonts and AI-generated illustrations\"\n",
        "\n",
        "# Generate the image\n",
        "print(\"Generating Image... This may take a few seconds.\")\n",
        "image = pipeline(text_prompt).images[0]\n",
        "\n",
        "# Display the generated image\n",
        "plt.imshow(image)\n",
        "plt.axis(\"off\")\n",
        "plt.show()\n",
        "\n",
        "# Save the image\n",
        "image.save(\"generated_image.png\")\n",
        "print(\"Image saved as 'generated_image.png'\")\n"
      ]
    }
  ]
}